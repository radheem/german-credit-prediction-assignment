{
 "cells": [
  {
   "cell_type": "code",
   "execution_count": 1,
   "metadata": {},
   "outputs": [],
   "source": [
    "import numpy as np\n",
    "import matplotlib.pyplot as plt\n",
    "import pandas as pd \n",
    "import scipy as sp\n",
    "from scipy.stats import chi2_contingency\n",
    "from scipy.stats import chi2\n",
    "import pandas_profiling as pp"
   ]
  },
  {
   "cell_type": "code",
   "execution_count": 2,
   "metadata": {},
   "outputs": [],
   "source": [
    "column=[\"status\",\"duration(month)\",\"credit_history\",\"purpose\",\"credit_amount\",\"saving_account\",\"employment_since\",\"installment_rate\",\"status_sex\",\"guarantors\",\"residence_since\",\"property\",\"age\",\"installment_plans\",\"housing\",\"credits\",\"job\",\"liable people\",\"telephone\",\"foreign_worker\",\"label\"]\n",
    "data= pd.read_csv(\"german.data\",sep=\" \",names=column)"
   ]
  },
  {
   "cell_type": "code",
   "execution_count": 50,
   "metadata": {},
   "outputs": [
    {
     "data": {
      "application/vnd.jupyter.widget-view+json": {
       "model_id": "03fabe3fdae74eebb94525a3a6877ae3",
       "version_major": 2,
       "version_minor": 0
      },
      "text/plain": [
       "Tab(children=(HTML(value='<div id=\"overview-content\" class=\"row variable spacing\">\\n    <div class=\"row\">\\n   …"
      ]
     },
     "metadata": {},
     "output_type": "display_data"
    },
    {
     "data": {
      "text/html": [
       "Report generated with <a href=\"https://github.com/pandas-profiling/pandas-profiling\">pandas-profiling</a>."
      ],
      "text/plain": [
       "<IPython.core.display.HTML object>"
      ]
     },
     "metadata": {},
     "output_type": "display_data"
    },
    {
     "data": {
      "text/plain": []
     },
     "execution_count": 50,
     "metadata": {},
     "output_type": "execute_result"
    }
   ],
   "source": [
    "pp.ProfileReport(data)"
   ]
  },
  {
   "cell_type": "markdown",
   "metadata": {},
   "source": [
    "found a minor correlation between job and telephone "
   ]
  },
  {
   "cell_type": "code",
   "execution_count": 4,
   "metadata": {},
   "outputs": [],
   "source": [
    "#making data copy and converting categorialm variables \n",
    "df=data.copy()"
   ]
  },
  {
   "cell_type": "markdown",
   "metadata": {},
   "source": [
    "Applying chi square test of indepence between job and telephone \n",
    "(because data is old and telephones used to be expensive hence hypothesis that people with job more probable of having telephone)"
   ]
  },
  {
   "cell_type": "raw",
   "metadata": {},
   "source": [
    "hypothesis0: job and telephone independent \n",
    "hypothesis1: job and telephone not independent "
   ]
  },
  {
   "cell_type": "markdown",
   "metadata": {},
   "source": [
    "creating contigency table"
   ]
  },
  {
   "cell_type": "code",
   "execution_count": 5,
   "metadata": {
    "scrolled": true
   },
   "outputs": [
    {
     "name": "stdout",
     "output_type": "stream",
     "text": [
      "contingency table: \n"
     ]
    },
    {
     "data": {
      "text/html": [
       "<div>\n",
       "<style scoped>\n",
       "    .dataframe tbody tr th:only-of-type {\n",
       "        vertical-align: middle;\n",
       "    }\n",
       "\n",
       "    .dataframe tbody tr th {\n",
       "        vertical-align: top;\n",
       "    }\n",
       "\n",
       "    .dataframe thead th {\n",
       "        text-align: right;\n",
       "    }\n",
       "</style>\n",
       "<table border=\"1\" class=\"dataframe\">\n",
       "  <thead>\n",
       "    <tr style=\"text-align: right;\">\n",
       "      <th></th>\n",
       "      <th>A171</th>\n",
       "      <th>A172</th>\n",
       "      <th>A173</th>\n",
       "      <th>A174</th>\n",
       "    </tr>\n",
       "  </thead>\n",
       "  <tbody>\n",
       "    <tr>\n",
       "      <th>A191</th>\n",
       "      <td>16</td>\n",
       "      <td>169</td>\n",
       "      <td>390</td>\n",
       "      <td>21</td>\n",
       "    </tr>\n",
       "    <tr>\n",
       "      <th>A192</th>\n",
       "      <td>6</td>\n",
       "      <td>31</td>\n",
       "      <td>240</td>\n",
       "      <td>127</td>\n",
       "    </tr>\n",
       "  </tbody>\n",
       "</table>\n",
       "</div>"
      ],
      "text/plain": [
       "      A171  A172  A173  A174\n",
       "A191    16   169   390    21\n",
       "A192     6    31   240   127"
      ]
     },
     "execution_count": 5,
     "metadata": {},
     "output_type": "execute_result"
    }
   ],
   "source": [
    "table = pd.DataFrame(columns=['A171', 'A172', 'A173', 'A174'], index=['A191', 'A192'])\n",
    "table.loc['A191','A171']=len(data.query('telephone == \"A191\" and job==\"A171\"'))\n",
    "table.loc['A191','A172']=len(data.query('telephone == \"A191\" and job==\"A172\"'))\n",
    "table.loc['A191','A173']=len(data.query('telephone == \"A191\" and job==\"A173\"'))\n",
    "table.loc['A191','A174']=len(data.query('telephone == \"A191\" and job==\"A174\"'))\n",
    "table.loc['A192','A171']=len(data.query('telephone == \"A192\" and job==\"A171\"'))\n",
    "table.loc['A192','A172']=len(data.query('telephone == \"A192\" and job==\"A172\"'))\n",
    "table.loc['A192','A173']=len(data.query('telephone == \"A192\" and job==\"A173\"'))\n",
    "table.loc['A192','A174']=len(data.query('telephone == \"A192\" and job==\"A174\"'))\n",
    "print(\"contingency table: \")\n",
    "table.head()"
   ]
  },
  {
   "cell_type": "code",
   "execution_count": 6,
   "metadata": {
    "scrolled": false
   },
   "outputs": [
    {
     "name": "stdout",
     "output_type": "stream",
     "text": [
      "dof= 3  p= 4.82040879613156e-39  stat= 181.21496774978735\n"
     ]
    },
    {
     "data": {
      "text/html": [
       "<div>\n",
       "<style scoped>\n",
       "    .dataframe tbody tr th:only-of-type {\n",
       "        vertical-align: middle;\n",
       "    }\n",
       "\n",
       "    .dataframe tbody tr th {\n",
       "        vertical-align: top;\n",
       "    }\n",
       "\n",
       "    .dataframe thead th {\n",
       "        text-align: right;\n",
       "    }\n",
       "</style>\n",
       "<table border=\"1\" class=\"dataframe\">\n",
       "  <thead>\n",
       "    <tr style=\"text-align: right;\">\n",
       "      <th></th>\n",
       "      <th>A171</th>\n",
       "      <th>A172</th>\n",
       "      <th>A173</th>\n",
       "      <th>A174</th>\n",
       "    </tr>\n",
       "  </thead>\n",
       "  <tbody>\n",
       "    <tr>\n",
       "      <th>A191</th>\n",
       "      <td>13.112</td>\n",
       "      <td>119.2</td>\n",
       "      <td>375.48</td>\n",
       "      <td>88.208</td>\n",
       "    </tr>\n",
       "    <tr>\n",
       "      <th>A192</th>\n",
       "      <td>8.888</td>\n",
       "      <td>80.8</td>\n",
       "      <td>254.52</td>\n",
       "      <td>59.792</td>\n",
       "    </tr>\n",
       "  </tbody>\n",
       "</table>\n",
       "</div>"
      ],
      "text/plain": [
       "        A171   A172    A173    A174\n",
       "A191  13.112  119.2  375.48  88.208\n",
       "A192   8.888   80.8  254.52  59.792"
      ]
     },
     "execution_count": 6,
     "metadata": {},
     "output_type": "execute_result"
    }
   ],
   "source": [
    "stat, p, dof, expected = chi2_contingency(table)\n",
    "print('dof=',dof,' p=',p,' stat=',stat) \n",
    "exp_obj = pd.DataFrame(expected,columns=['A171', 'A172', 'A173', 'A174'], index=['A191', 'A192'])\n",
    "exp_obj"
   ]
  },
  {
   "cell_type": "code",
   "execution_count": 7,
   "metadata": {
    "scrolled": true
   },
   "outputs": [
    {
     "name": "stdout",
     "output_type": "stream",
     "text": [
      "probability= 0.95, critical=7.815, stat=181.215\n",
      "Dependent (reject H0)\n",
      "significance= 0.050000000000000044 p= 4.82040879613156e-39\n",
      "Dependent (reject H0)\n"
     ]
    }
   ],
   "source": [
    "critical = chi2.ppf(0.95, dof)\n",
    "print('probability= 0.95, critical=%.3f, stat=%.3f' %( critical, stat))\n",
    "if abs(stat) >= critical:\n",
    "    print('Dependent (reject H0)')\n",
    "else:\n",
    "    print('Independent (fail to reject H0)')\n",
    "# interpret p-value\n",
    "alpha = 1.0 - 0.95\n",
    "print('significance=',alpha,'p=',p)\n",
    "if p <= alpha:\n",
    "    print('Dependent (reject H0)')\n",
    "else:\n",
    "    print('Independent (fail to reject H0)')"
   ]
  },
  {
   "cell_type": "raw",
   "metadata": {},
   "source": [
    "hypothesis0: foreign worker and telephone independent \n",
    "hypothesis1: foreign worker and telephone not independent "
   ]
  },
  {
   "cell_type": "raw",
   "metadata": {},
   "source": [
    "creating contigency table "
   ]
  },
  {
   "cell_type": "code",
   "execution_count": 8,
   "metadata": {},
   "outputs": [
    {
     "name": "stdout",
     "output_type": "stream",
     "text": [
      "contingency table: \n"
     ]
    },
    {
     "data": {
      "text/html": [
       "<div>\n",
       "<style scoped>\n",
       "    .dataframe tbody tr th:only-of-type {\n",
       "        vertical-align: middle;\n",
       "    }\n",
       "\n",
       "    .dataframe tbody tr th {\n",
       "        vertical-align: top;\n",
       "    }\n",
       "\n",
       "    .dataframe thead th {\n",
       "        text-align: right;\n",
       "    }\n",
       "</style>\n",
       "<table border=\"1\" class=\"dataframe\">\n",
       "  <thead>\n",
       "    <tr style=\"text-align: right;\">\n",
       "      <th></th>\n",
       "      <th>A191</th>\n",
       "      <th>A192</th>\n",
       "    </tr>\n",
       "  </thead>\n",
       "  <tbody>\n",
       "    <tr>\n",
       "      <th>A201</th>\n",
       "      <td>564</td>\n",
       "      <td>399</td>\n",
       "    </tr>\n",
       "    <tr>\n",
       "      <th>A202</th>\n",
       "      <td>32</td>\n",
       "      <td>5</td>\n",
       "    </tr>\n",
       "  </tbody>\n",
       "</table>\n",
       "</div>"
      ],
      "text/plain": [
       "      A191  A192\n",
       "A201   564   399\n",
       "A202    32     5"
      ]
     },
     "execution_count": 8,
     "metadata": {},
     "output_type": "execute_result"
    }
   ],
   "source": [
    "table = pd.DataFrame(index=['A201', 'A202'], columns=['A191', 'A192'])\n",
    "table.loc['A201','A191']=len(data.query('telephone == \"A191\" and foreign_worker==\"A201\"'))\n",
    "table.loc['A201','A192']=len(data.query('telephone == \"A192\" and foreign_worker==\"A201\"'))\n",
    "table.loc['A202','A191']=len(data.query('telephone == \"A191\" and foreign_worker==\"A202\"'))\n",
    "table.loc['A202','A192']=len(data.query('telephone == \"A192\" and foreign_worker==\"A202\"'))\n",
    "print(\"contingency table: \")\n",
    "table.head()"
   ]
  },
  {
   "cell_type": "code",
   "execution_count": 9,
   "metadata": {},
   "outputs": [
    {
     "name": "stdout",
     "output_type": "stream",
     "text": [
      "dof= 1  p= 0.0012570383590703323  stat= 10.404569922605399\n"
     ]
    },
    {
     "data": {
      "text/html": [
       "<div>\n",
       "<style scoped>\n",
       "    .dataframe tbody tr th:only-of-type {\n",
       "        vertical-align: middle;\n",
       "    }\n",
       "\n",
       "    .dataframe tbody tr th {\n",
       "        vertical-align: top;\n",
       "    }\n",
       "\n",
       "    .dataframe thead th {\n",
       "        text-align: right;\n",
       "    }\n",
       "</style>\n",
       "<table border=\"1\" class=\"dataframe\">\n",
       "  <thead>\n",
       "    <tr style=\"text-align: right;\">\n",
       "      <th></th>\n",
       "      <th>A191</th>\n",
       "      <th>A192</th>\n",
       "    </tr>\n",
       "  </thead>\n",
       "  <tbody>\n",
       "    <tr>\n",
       "      <th>A201</th>\n",
       "      <td>573.948</td>\n",
       "      <td>389.052</td>\n",
       "    </tr>\n",
       "    <tr>\n",
       "      <th>A202</th>\n",
       "      <td>22.052</td>\n",
       "      <td>14.948</td>\n",
       "    </tr>\n",
       "  </tbody>\n",
       "</table>\n",
       "</div>"
      ],
      "text/plain": [
       "         A191     A192\n",
       "A201  573.948  389.052\n",
       "A202   22.052   14.948"
      ]
     },
     "execution_count": 9,
     "metadata": {},
     "output_type": "execute_result"
    }
   ],
   "source": [
    "stat, p, dof, expected = chi2_contingency(table)\n",
    "print('dof=',dof,' p=',p,' stat=',stat) \n",
    "exp_obj = pd.DataFrame(expected,index=['A201', 'A202'], columns=['A191', 'A192'])\n",
    "exp_obj"
   ]
  },
  {
   "cell_type": "code",
   "execution_count": 10,
   "metadata": {
    "scrolled": true
   },
   "outputs": [
    {
     "name": "stdout",
     "output_type": "stream",
     "text": [
      "probability= 0.95, critical=3.841, stat=10.405\n",
      "Dependent (reject H0)\n",
      "significance= 0.050000000000000044 p= 0.0012570383590703323\n",
      "Dependent (reject H0)\n"
     ]
    }
   ],
   "source": [
    "critical = chi2.ppf(0.95, dof)\n",
    "print('probability= 0.95, critical=%.3f, stat=%.3f' %( critical, stat))\n",
    "if abs(stat) >= critical:\n",
    "    print('Dependent (reject H0)')\n",
    "else:\n",
    "    print('Independent (fail to reject H0)')\n",
    "# interpret p-value\n",
    "alpha = 1.0 - 0.95\n",
    "print('significance=',alpha,'p=',p)\n",
    "if p <= alpha:\n",
    "    print('Dependent (reject H0)')\n",
    "else:\n",
    "    print('Independent (fail to reject H0)')"
   ]
  },
  {
   "cell_type": "raw",
   "metadata": {},
   "source": [
    "hypothesis0: purpose and label independent \n",
    "hypothesis1: purpose and label not independent "
   ]
  },
  {
   "cell_type": "code",
   "execution_count": 11,
   "metadata": {},
   "outputs": [
    {
     "name": "stdout",
     "output_type": "stream",
     "text": [
      "contingency table: \n"
     ]
    },
    {
     "data": {
      "text/html": [
       "<div>\n",
       "<style scoped>\n",
       "    .dataframe tbody tr th:only-of-type {\n",
       "        vertical-align: middle;\n",
       "    }\n",
       "\n",
       "    .dataframe tbody tr th {\n",
       "        vertical-align: top;\n",
       "    }\n",
       "\n",
       "    .dataframe thead th {\n",
       "        text-align: right;\n",
       "    }\n",
       "</style>\n",
       "<table border=\"1\" class=\"dataframe\">\n",
       "  <thead>\n",
       "    <tr style=\"text-align: right;\">\n",
       "      <th></th>\n",
       "      <th>A40</th>\n",
       "      <th>A41</th>\n",
       "      <th>A42</th>\n",
       "      <th>A43</th>\n",
       "      <th>A44</th>\n",
       "      <th>A45</th>\n",
       "      <th>A46</th>\n",
       "      <th>A48</th>\n",
       "      <th>A49</th>\n",
       "      <th>A410</th>\n",
       "    </tr>\n",
       "  </thead>\n",
       "  <tbody>\n",
       "    <tr>\n",
       "      <th>good</th>\n",
       "      <td>145</td>\n",
       "      <td>86</td>\n",
       "      <td>123</td>\n",
       "      <td>218</td>\n",
       "      <td>8</td>\n",
       "      <td>14</td>\n",
       "      <td>28</td>\n",
       "      <td>8</td>\n",
       "      <td>63</td>\n",
       "      <td>7</td>\n",
       "    </tr>\n",
       "    <tr>\n",
       "      <th>bad</th>\n",
       "      <td>89</td>\n",
       "      <td>17</td>\n",
       "      <td>58</td>\n",
       "      <td>62</td>\n",
       "      <td>4</td>\n",
       "      <td>8</td>\n",
       "      <td>22</td>\n",
       "      <td>1</td>\n",
       "      <td>34</td>\n",
       "      <td>5</td>\n",
       "    </tr>\n",
       "  </tbody>\n",
       "</table>\n",
       "</div>"
      ],
      "text/plain": [
       "      A40  A41  A42  A43  A44  A45  A46  A48  A49  A410\n",
       "good  145   86  123  218    8   14   28    8   63     7\n",
       "bad    89   17   58   62    4    8   22    1   34     5"
      ]
     },
     "execution_count": 11,
     "metadata": {},
     "output_type": "execute_result"
    }
   ],
   "source": [
    "table = pd.DataFrame(columns=['A40','A41','A42','A43','A44','A45','A46','A48','A49','A410'], index=['good', 'bad'])\n",
    "table.loc['good','A40']=len(data.query('label == \"1\" and purpose==\"A40\"'))\n",
    "table.loc['good','A41']=len(data.query('label == \"1\" and purpose==\"A41\"'))\n",
    "table.loc['good','A42']=len(data.query('label == \"1\" and purpose==\"A42\"'))\n",
    "table.loc['good','A43']=len(data.query('label == \"1\" and purpose==\"A43\"'))\n",
    "table.loc['good','A44']=len(data.query('label == \"1\" and purpose==\"A44\"'))\n",
    "table.loc['good','A45']=len(data.query('label == \"1\" and purpose==\"A45\"'))\n",
    "table.loc['good','A46']=len(data.query('label == \"1\" and purpose==\"A46\"'))\n",
    "# table.loc['good','A47']=len(data.query('label == \"1\" and purpose==\"A47\"'))\n",
    "table.loc['good','A48']=len(data.query('label == \"1\" and purpose==\"A48\"'))\n",
    "table.loc['good','A49']=len(data.query('label == \"1\" and purpose==\"A49\"'))\n",
    "table.loc['good','A410']=len(data.query('label == \"1\" and purpose==\"A410\"'))\n",
    "table.loc['bad','A40']=len(data.query('label == \"2\" and purpose==\"A40\"'))\n",
    "table.loc['bad','A41']=len(data.query('label == \"2\" and purpose==\"A41\"'))\n",
    "table.loc['bad','A42']=len(data.query('label == \"2\" and purpose==\"A42\"'))\n",
    "table.loc['bad','A43']=len(data.query('label == \"2\" and purpose==\"A43\"'))\n",
    "table.loc['bad','A44']=len(data.query('label == \"2\" and purpose==\"A44\"'))\n",
    "table.loc['bad','A45']=len(data.query('label == \"2\" and purpose==\"A45\"'))\n",
    "table.loc['bad','A46']=len(data.query('label == \"2\" and purpose==\"A46\"'))\n",
    "# table.loc['bad','A47']=len(data.query('label == \"2\" and purpose==\"A47\"'))\n",
    "table.loc['bad','A48']=len(data.query('label == \"2\" and purpose==\"A48\"'))\n",
    "table.loc['bad','A49']=len(data.query('label == \"2\" and purpose==\"A49\"'))\n",
    "table.loc['bad','A410']=len(data.query('label == \"2\" and purpose==\"A410\"'))\n",
    "print(\"contingency table: \")\n",
    "table.head()"
   ]
  },
  {
   "cell_type": "code",
   "execution_count": 12,
   "metadata": {},
   "outputs": [
    {
     "name": "stdout",
     "output_type": "stream",
     "text": [
      "dof= 9  p= 0.00011574910079691586  stat= 33.35644686141815\n"
     ]
    },
    {
     "data": {
      "text/html": [
       "<div>\n",
       "<style scoped>\n",
       "    .dataframe tbody tr th:only-of-type {\n",
       "        vertical-align: middle;\n",
       "    }\n",
       "\n",
       "    .dataframe tbody tr th {\n",
       "        vertical-align: top;\n",
       "    }\n",
       "\n",
       "    .dataframe thead th {\n",
       "        text-align: right;\n",
       "    }\n",
       "</style>\n",
       "<table border=\"1\" class=\"dataframe\">\n",
       "  <thead>\n",
       "    <tr style=\"text-align: right;\">\n",
       "      <th></th>\n",
       "      <th>A40</th>\n",
       "      <th>A41</th>\n",
       "      <th>A42</th>\n",
       "      <th>A43</th>\n",
       "      <th>A44</th>\n",
       "      <th>A45</th>\n",
       "      <th>A46</th>\n",
       "      <th>A48</th>\n",
       "      <th>A49</th>\n",
       "      <th>A410</th>\n",
       "    </tr>\n",
       "  </thead>\n",
       "  <tbody>\n",
       "    <tr>\n",
       "      <th>good</th>\n",
       "      <td>163.8</td>\n",
       "      <td>72.1</td>\n",
       "      <td>126.7</td>\n",
       "      <td>196.0</td>\n",
       "      <td>8.4</td>\n",
       "      <td>15.4</td>\n",
       "      <td>35.0</td>\n",
       "      <td>6.3</td>\n",
       "      <td>67.9</td>\n",
       "      <td>8.4</td>\n",
       "    </tr>\n",
       "    <tr>\n",
       "      <th>bad</th>\n",
       "      <td>70.2</td>\n",
       "      <td>30.9</td>\n",
       "      <td>54.3</td>\n",
       "      <td>84.0</td>\n",
       "      <td>3.6</td>\n",
       "      <td>6.6</td>\n",
       "      <td>15.0</td>\n",
       "      <td>2.7</td>\n",
       "      <td>29.1</td>\n",
       "      <td>3.6</td>\n",
       "    </tr>\n",
       "  </tbody>\n",
       "</table>\n",
       "</div>"
      ],
      "text/plain": [
       "        A40   A41    A42    A43  A44   A45   A46  A48   A49  A410\n",
       "good  163.8  72.1  126.7  196.0  8.4  15.4  35.0  6.3  67.9   8.4\n",
       "bad    70.2  30.9   54.3   84.0  3.6   6.6  15.0  2.7  29.1   3.6"
      ]
     },
     "execution_count": 12,
     "metadata": {},
     "output_type": "execute_result"
    }
   ],
   "source": [
    "stat, p, dof, expected = chi2_contingency(table)\n",
    "print('dof=',dof,' p=',p,' stat=',stat) \n",
    "exp_obj = pd.DataFrame(expected,columns=['A40','A41','A42','A43','A44','A45','A46','A48','A49','A410'], index=['good', 'bad'])\n",
    "exp_obj"
   ]
  },
  {
   "cell_type": "code",
   "execution_count": 13,
   "metadata": {},
   "outputs": [
    {
     "name": "stdout",
     "output_type": "stream",
     "text": [
      "probability= 0.95, critical=16.919, stat=33.356\n",
      "Dependent (reject H0)\n",
      "significance= 0.050000000000000044 p= 0.00011574910079691586\n",
      "Dependent (reject H0)\n"
     ]
    }
   ],
   "source": [
    "critical = chi2.ppf(0.95, dof)\n",
    "print('probability= 0.95, critical=%.3f, stat=%.3f' %( critical, stat))\n",
    "if abs(stat) >= critical:\n",
    "    print('Dependent (reject H0)')\n",
    "else:\n",
    "    print('Independent (fail to reject H0)')\n",
    "# interpret p-value\n",
    "alpha = 1.0 - 0.95\n",
    "print('significance=',alpha,'p=',p)\n",
    "if p <= alpha:\n",
    "    print('Dependent (reject H0)')\n",
    "else:\n",
    "    print('Independent (fail to reject H0)')"
   ]
  },
  {
   "cell_type": "raw",
   "metadata": {},
   "source": [
    "encoding categorical variable to numeric values to apply model"
   ]
  },
  {
   "cell_type": "code",
   "execution_count": 15,
   "metadata": {},
   "outputs": [],
   "source": [
    "df['status']=df['status'].replace(['A11','A12','A13','A14'],[1,2,3,4])\n",
    "df['credit_history']=df['credit_history'].replace(['A30','A31','A32','A33','A34'],[0,1,2,3,4])\n",
    "df['purpose']=df['purpose'].replace(['A40','A41','A42','A43','A44','A45','A46','A47','A48','A49','A410'],[1,2,3,4,5,6,7,8,9,10,11])\n",
    "df['saving_account']=df['saving_account'].replace(['A61','A62','A63','A64','A65'],[1,2,3,4,5])\n",
    "df['employment_since']=df['employment_since'].replace(['A71','A72','A73','A74','A75'],[1,2,3,4,5])\n",
    "df['status_sex']=df['status_sex'].replace(['A91','A92','A93','A94','A95'],[1,2,3,4,5])\n",
    "df['guarantors']=df['guarantors'].replace(['A101','A102','A103'],[1,2,3])\n",
    "df['property']=df['property'].replace(['A121','A122','A123','A124'],[1,2,3,4])\n",
    "df['installment_plans']=df['installment_plans'].replace(['A141','A142','A143'],[1,2,3])\n",
    "df['housing']=df['housing'].replace(['A151','A152','A153'],[1,2,3])\n",
    "df['foreign_worker']=df['foreign_worker'].replace(['A201','A202'],[1,2])\n",
    "df['telephone']=df['telephone'].replace(['A191','A192'],[1,2])\n",
    "df['job']=df['job'].replace(['A171','A172','A173','A174'],[1,2,3,4])\n"
   ]
  },
  {
   "cell_type": "code",
   "execution_count": 16,
   "metadata": {},
   "outputs": [],
   "source": [
    "from sklearn.feature_selection import SelectKBest\n",
    "from sklearn.feature_selection import chi2\n"
   ]
  },
  {
   "cell_type": "markdown",
   "metadata": {},
   "source": [
    "# Decision tree model on all features"
   ]
  },
  {
   "cell_type": "code",
   "execution_count": 83,
   "metadata": {},
   "outputs": [],
   "source": [
    "F=df.loc[:,:'foreign_worker']\n",
    "L=df['label']"
   ]
  },
  {
   "cell_type": "code",
   "execution_count": 89,
   "metadata": {},
   "outputs": [],
   "source": [
    "from sklearn.model_selection import KFold \n",
    "from sklearn.model_selection import RepeatedKFold\n",
    "kf = RepeatedKFold(n_splits=5, n_repeats=10, random_state=None) \n",
    "\n",
    "for train_index, test_index in kf.split(F):\n",
    "#       print(\"Train:\", train_index, \"Validation:\",test_index)\n",
    "      F_train, F_test = X[train_index], X[test_index] \n",
    "      L_train, L_test = y[train_index], y[test_index]"
   ]
  },
  {
   "cell_type": "code",
   "execution_count": 90,
   "metadata": {},
   "outputs": [],
   "source": [
    "from sklearn import tree\n",
    "clf = tree.DecisionTreeClassifier()\n",
    "clf = clf.fit(F_train, L_train)"
   ]
  },
  {
   "cell_type": "code",
   "execution_count": 91,
   "metadata": {},
   "outputs": [],
   "source": [
    "l_pred=clf.predict(F_test)"
   ]
  },
  {
   "cell_type": "code",
   "execution_count": 92,
   "metadata": {},
   "outputs": [
    {
     "data": {
      "text/plain": [
       "0.69"
      ]
     },
     "execution_count": 92,
     "metadata": {},
     "output_type": "execute_result"
    }
   ],
   "source": [
    "from sklearn.metrics import accuracy_score\n",
    "accuracy_score(L_test, l_pred)\n",
    "\n",
    "accuracy_score(L_test, l_pred, normalize=True)"
   ]
  },
  {
   "cell_type": "markdown",
   "metadata": {},
   "source": [
    "# decision tree on 10 selected features"
   ]
  },
  {
   "cell_type": "code",
   "execution_count": 17,
   "metadata": {},
   "outputs": [],
   "source": [
    "X=df.loc[:,:'foreign_worker']\n",
    "y=df['label']\n",
    "# print(X)"
   ]
  },
  {
   "cell_type": "markdown",
   "metadata": {},
   "source": [
    "feature selection done using chi square test of significance \n",
    "10 most features selected "
   ]
  },
  {
   "cell_type": "code",
   "execution_count": 93,
   "metadata": {},
   "outputs": [],
   "source": [
    "chi2_selector = SelectKBest(chi2, k=10)\n",
    "X_kbest = chi2_selector.fit_transform(X, y)"
   ]
  },
  {
   "cell_type": "code",
   "execution_count": 19,
   "metadata": {},
   "outputs": [
    {
     "data": {
      "text/plain": [
       "array([[1, 6, 4, 1169, 5, 5, 4, 1, 67, 3],\n",
       "       [2, 48, 2, 5951, 1, 3, 2, 1, 22, 3],\n",
       "       [4, 12, 4, 2096, 1, 4, 2, 1, 49, 3],\n",
       "       [1, 42, 2, 7882, 1, 4, 2, 2, 45, 3],\n",
       "       [1, 24, 3, 4870, 1, 3, 3, 4, 53, 3]], dtype=object)"
      ]
     },
     "execution_count": 19,
     "metadata": {},
     "output_type": "execute_result"
    }
   ],
   "source": [
    "X_kbest[0:5][:]"
   ]
  },
  {
   "cell_type": "code",
   "execution_count": 75,
   "metadata": {},
   "outputs": [],
   "source": [
    "X=X_kbest.astype(int)\n",
    "y=df['label'].to_numpy()\n"
   ]
  },
  {
   "cell_type": "code",
   "execution_count": 76,
   "metadata": {},
   "outputs": [],
   "source": [
    "from sklearn.model_selection import KFold \n",
    "from sklearn.model_selection import RepeatedKFold\n",
    "kf = RepeatedKFold(n_splits=5, n_repeats=10, random_state=None) \n",
    "\n",
    "for train_index, test_index in kf.split(X):\n",
    "#       print(\"Train:\", train_index, \"Validation:\",test_index)\n",
    "      X_train, X_test = X[train_index], X[test_index] \n",
    "      y_train, y_test = y[train_index], y[test_index]"
   ]
  },
  {
   "cell_type": "code",
   "execution_count": 77,
   "metadata": {},
   "outputs": [],
   "source": [
    "from sklearn import tree\n",
    "y_train=y_train.astype(int)\n",
    "X_train=X_train.astype(int)\n",
    "clf = tree.DecisionTreeClassifier()\n",
    "clf = clf.fit(X_train, y_train)"
   ]
  },
  {
   "cell_type": "code",
   "execution_count": 78,
   "metadata": {},
   "outputs": [],
   "source": [
    "X_test.shape\n",
    "y_test=y_test.astype(int)\n",
    "X_test=X_test.astype(int)\n",
    "y_pred=clf.predict(X_test)"
   ]
  },
  {
   "cell_type": "code",
   "execution_count": 79,
   "metadata": {},
   "outputs": [
    {
     "data": {
      "text/plain": [
       "0.7"
      ]
     },
     "execution_count": 79,
     "metadata": {},
     "output_type": "execute_result"
    }
   ],
   "source": [
    "from sklearn.metrics import accuracy_score\n",
    "accuracy_score(y_test, y_pred)\n",
    "\n",
    "accuracy_score(y_test, y_pred, normalize=True)"
   ]
  },
  {
   "cell_type": "code",
   "execution_count": null,
   "metadata": {},
   "outputs": [],
   "source": []
  }
 ],
 "metadata": {
  "kernelspec": {
   "display_name": "Python 3",
   "language": "python",
   "name": "python3"
  },
  "language_info": {
   "codemirror_mode": {
    "name": "ipython",
    "version": 3
   },
   "file_extension": ".py",
   "mimetype": "text/x-python",
   "name": "python",
   "nbconvert_exporter": "python",
   "pygments_lexer": "ipython3",
   "version": "3.7.0"
  }
 },
 "nbformat": 4,
 "nbformat_minor": 2
}
